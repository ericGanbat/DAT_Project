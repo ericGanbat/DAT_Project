{
 "metadata": {
  "name": "",
  "signature": "sha256:44bc6e708be3d272bc3f990684f57c4b3247826637eadb8250c7600794170d6a"
 },
 "nbformat": 3,
 "nbformat_minor": 0,
 "worksheets": [
  {
   "cells": [
    {
     "cell_type": "code",
     "collapsed": false,
     "input": [
      "import urllib\n",
      "from bs4 import BeautifulSoup\n",
      "import os\n",
      "\n",
      "# this program parses yelp link to get reviews and it's rating.Then prints result to yelpoutput.csv in current dirrectory\n",
      "\n",
      "class getmain():\n",
      "       \n",
      "    def getsoup(self,link):\n",
      "        html = urllib.urlopen(link).read()\n",
      "        return BeautifulSoup(html)\n",
      "            \n",
      "    def getvalue(self,entry):\n",
      "        if entry:\n",
      "            return entry.text\n",
      "        else:\n",
      "            return\n",
      "\n",
      "    def getnumreview(self,link):\n",
      "        soup=self.getsoup(link)\n",
      "        reviewcount=soup.find('span',itemprop='reviewCount')\n",
      "        return reviewcount\n",
      "    \n",
      "    def getreview(self): \n",
      "        filename = 'yelpoutput.csv'\n",
      "        reviewcount=int(self.getvalue(self.getnumreview(self.link)))    \n",
      "        \n",
      "        for i in range(0,reviewcount,40):\n",
      "            reviewlink=self.link+'?start='+str(i)\n",
      "            soup=self.getsoup(reviewlink)\n",
      "            reviews=soup.findAll('div',attrs={'class':'review-content'})\n",
      "            \n",
      "        with open(filename, 'w+') as temp_file:   \n",
      "            for r in reviews:\n",
      "                \n",
      "                rating=r.find('meta',itemprop='ratingValue')\n",
      "                review=self.getvalue(r.find('p',itemprop='description'))\n",
      "\n",
      "                temp_file.write(rating.get('content',''))\n",
      "                temp_file.write(',')\n",
      "                temp_file.write(review.encode('utf-8').strip())\n",
      "                temp_file.write('\\n')\n",
      "                \n",
      "                \n",
      "    def __init__(self,link):\n",
      "        self.link=link\n",
      "        self.reviewcount=0\n",
      "        self.allreview=[]\n"
     ],
     "language": "python",
     "metadata": {},
     "outputs": [],
     "prompt_number": 71
    },
    {
     "cell_type": "code",
     "collapsed": false,
     "input": [
      "a=getmain('http://www.yelp.com/biz/sous-beurre-kitchen-san-francisco-2?start=80')\n",
      "a.getreview()"
     ],
     "language": "python",
     "metadata": {},
     "outputs": [],
     "prompt_number": 70
    }
   ],
   "metadata": {}
  }
 ]
}